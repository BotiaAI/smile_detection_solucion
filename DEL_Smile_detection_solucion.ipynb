{
 "cells": [
  {
   "cell_type": "markdown",
   "metadata": {},
   "source": [
    "# Smile detection (solución)\n",
    "\n",
    "En este ejercicio crearemos una red neuronal para detectar si una persona está sonriendo o no. Para ello utilizaremos más de 13000 fotos de ejemplo.\n",
    "\n",
    "1. Importar datos\n",
    "2. Preprocesar datos\n",
    "3. Visualización\n",
    "4. Red neuronal\n",
    "5. Entrenamiento\n",
    "6. Resultados\n",
    "7. Dropout\n",
    "8. Balanceo de datos de entrenamiento\n",
    "9. Predicción\n",
    "10. Extra"
   ]
  },
  {
   "cell_type": "markdown",
   "metadata": {},
   "source": [
    "## 1 - Importar datos\n",
    "Los datos se encuentran dentro del mismo repositorio. Están ya clasificados en sonrisas (directorio 'positives') y no sonrisa (directorio 'negatives'). Los cargaremos a una variable llamada examples, etiquetando con un 1 las sonrisas y con un 0 las no sonrisas."
   ]
  },
  {
   "cell_type": "code",
   "execution_count": 1,
   "metadata": {
    "collapsed": true
   },
   "outputs": [],
   "source": [
    "import glob\n",
    "import numpy as np\n",
    "from skimage.measure import block_reduce\n",
    "from skimage.io import imread\n",
    "import math\n",
    "import PIL.Image\n",
    "import IPython.display\n",
    "import shutil\n",
    "from io import BytesIO\n",
    "\n",
    "np.random.seed(7)\n",
    "\n",
    "positive_paths = glob.glob(\"positives/*.jpg\")\n",
    "negative_paths = glob.glob(\"negatives/*.jpg\")\n",
    "examples = [(path, 0) for path in negative_paths] + [(path, 1) for path in positive_paths]"
   ]
  },
  {
   "cell_type": "code",
   "execution_count": 2,
   "metadata": {},
   "outputs": [
    {
     "data": {
      "text/plain": [
       "13165"
      ]
     },
     "execution_count": 2,
     "metadata": {},
     "output_type": "execute_result"
    }
   ],
   "source": [
    "#Verifico el total de los datos\n",
    "len(examples)"
   ]
  },
  {
   "cell_type": "markdown",
   "metadata": {},
   "source": [
    "## 2 - Preprocesar datos\n",
    "Para ganar en eficiencia reduciremos el tamaño de las fotos (investigar la función block_reduce) y normalizaremos los datos. Recordar que son imágenes en blanco y negro."
   ]
  },
  {
   "cell_type": "code",
   "execution_count": 3,
   "metadata": {},
   "outputs": [
    {
     "name": "stdout",
     "output_type": "stream",
     "text": [
      "CPU times: user 8.05 s, sys: 1.16 s, total: 9.21 s\n",
      "Wall time: 10.5 s\n"
     ]
    }
   ],
   "source": [
    "def examples_to_dataset(examples, block_size=2):\n",
    "    X = []\n",
    "    y = []\n",
    "    for path, label in examples:\n",
    "        img = imread(path, as_grey=True)\n",
    "        img = block_reduce(img, block_size=(block_size, block_size), func=np.mean)\n",
    "        X.append(img)\n",
    "        y.append(label)\n",
    "    return np.asarray(X), np.asarray(y)\n",
    "\n",
    "%time X, y = examples_to_dataset(examples)\n",
    "y = y.astype(np.int32)"
   ]
  },
  {
   "cell_type": "markdown",
   "metadata": {},
   "source": [
    "** ¿Cómo se normaliza una imagen en blanco y negro? **"
   ]
  },
  {
   "cell_type": "markdown",
   "metadata": {},
   "source": [
    "** Respuesta: ** Las imágenes tienen una única capa (versus las imágenes en color que tienen 3 capas para el rojo, azul y el verde) y los pixeles guardan la información del color en un número del 0 al 255. Se normaliza entre 0 y 1 dividiendo esta información entre 255."
   ]
  },
  {
   "cell_type": "code",
   "execution_count": 4,
   "metadata": {
    "collapsed": true
   },
   "outputs": [],
   "source": [
    "### SOLUCIÓN\n",
    "#Normalizar X\n",
    "X = X.astype(np.float32) / 255."
   ]
  },
  {
   "cell_type": "markdown",
   "metadata": {},
   "source": [
    "## 3 - Visualización\n",
    "Antes de continuar con el pre-procesamiento de los datos, visualizaremos algunos de los datos con los que entrenaremos."
   ]
  },
  {
   "cell_type": "code",
   "execution_count": 5,
   "metadata": {
    "collapsed": true
   },
   "outputs": [],
   "source": [
    "def find_rectangle(n, max_ratio=2):\n",
    "    sides = []\n",
    "    square = int(math.sqrt(n))\n",
    "    for w in range(square, max_ratio * square):\n",
    "        h = n / w\n",
    "        used = w * h\n",
    "        leftover = n - used\n",
    "        sides.append((leftover, (w, h)))\n",
    "    return sorted(sides)[0][1]\n",
    "\n",
    "def make_mosaic(images, n=None, nx=None, ny=None, w=None, h=None):\n",
    "    if n is None and nx is None and ny is None:\n",
    "        nx, ny = find_rectangle(len(images))\n",
    "    else:\n",
    "        nx = n if nx is None else nx\n",
    "        ny = n if ny is None else ny\n",
    "    images = np.array(images)\n",
    "    if images.ndim == 2:\n",
    "        side = int(np.sqrt(len(images[0])))\n",
    "        h = side if h is None else h\n",
    "        w = side if w is None else w\n",
    "        images = images.reshape(-1, h, w)\n",
    "    else:\n",
    "        h = images.shape[1]\n",
    "        w = images.shape[2]\n",
    "    image_gen = iter(images)\n",
    "    mosaic = np.empty((h*ny, w*nx))\n",
    "    for i in range(ny):\n",
    "        ia = (i)*h\n",
    "        ib = (i+1)*h\n",
    "        for j in range(nx):\n",
    "            ja = j*w\n",
    "            jb = (j+1)*w\n",
    "            mosaic[ia:ib, ja:jb] = next(image_gen)\n",
    "    return mosaic\n",
    "\n",
    "def show_array(a, fmt='png', filename=None):\n",
    "    a = np.squeeze(a)\n",
    "    a = np.uint8(np.clip(a, 0, 255))\n",
    "    image_data = BytesIO()\n",
    "    PIL.Image.fromarray(a).save(image_data, fmt)\n",
    "    if filename is None:\n",
    "        IPython.display.display(IPython.display.Image(data=image_data.getvalue()))\n",
    "    else:\n",
    "        with open(filename, 'w') as f:\n",
    "            image_data.seek(0)\n",
    "            shutil.copyfileobj(image_data, f)\n",
    "\n"
   ]
  },
  {
   "cell_type": "code",
   "execution_count": 6,
   "metadata": {},
   "outputs": [
    {
     "data": {
      "image/jpeg": "[encoded data removed]",
      "text/plain": [
       "<IPython.core.display.Image object>"
      ]
     },
     "metadata": {},
     "output_type": "display_data"
    },
    {
     "data": {
      "image/jpeg": "[encoded data removed]",
      "text/plain": [
       "<IPython.core.display.Image object>"
      ]
     },
     "metadata": {},
     "output_type": "display_data"
    }
   ],
   "source": [
    "show_array(255 * make_mosaic(X[:len(negative_paths)], 8), fmt='jpeg') # negative at the beginning\n",
    "show_array(255 * make_mosaic(X[-len(positive_paths):], 8), fmt='jpeg') # positive at the end"
   ]
  },
  {
   "cell_type": "code",
   "execution_count": 7,
   "metadata": {
    "collapsed": true
   },
   "outputs": [],
   "source": [
    "X = np.expand_dims(X, axis=-1)"
   ]
  },
  {
   "cell_type": "code",
   "execution_count": 8,
   "metadata": {},
   "outputs": [
    {
     "name": "stderr",
     "output_type": "stream",
     "text": [
      "Using TensorFlow backend.\n"
     ]
    }
   ],
   "source": [
    "from keras.utils import np_utils"
   ]
  },
  {
   "cell_type": "markdown",
   "metadata": {},
   "source": [
    "Ahora transformaremos las etiquetas en categorías para facilitar el entrenamiento. \n",
    "- Una sonrisa está representada por un 1 pero queremos que sea [0,1]\n",
    "- Una no sonrisa está representada por un 0 pero queremos que sea [1,0]\n",
    "\n",
    "Esto nos posibilita a expandir el ejemplo y agregar más categorías en el futuro como enojado o sorprendido.\n",
    "\n",
    "Luego aleatorizamos el orden de los ejemplos para poder separar sin sesgos los datos de validación, test y entrenamiento.\n",
    "\n",
    "Utilizar la función np.utils.to_categorical para transformar y de su forma actual ([0 <font color=blue>0</font> 0 ..., <font color=red>1</font> 1 1]) en una matriz con la siguiente forma:\n",
    "<br>\n",
    "[[ 1.  0.]\n",
    "<font color=blue>[ 1.  0.]</font><br>\n",
    " [ 1.  0.]<br>\n",
    " ...,\n",
    "<font color=red>[ 0.  1.]</font><br>\n",
    " [ 0.  1.]<br>\n",
    " [ 0.  1.]]\n",
    " "
   ]
  },
  {
   "cell_type": "code",
   "execution_count": 9,
   "metadata": {},
   "outputs": [
    {
     "name": "stdout",
     "output_type": "stream",
     "text": [
      "[0 0 0 ..., 1 1 1]\n"
     ]
    }
   ],
   "source": [
    "print(y)\n",
    "nb_classes = 2"
   ]
  },
  {
   "cell_type": "code",
   "execution_count": 10,
   "metadata": {
    "collapsed": true
   },
   "outputs": [],
   "source": [
    "### SOLUCIÓN\n",
    "y = np_utils.to_categorical(y, nb_classes).astype(np.float32)"
   ]
  },
  {
   "cell_type": "code",
   "execution_count": 11,
   "metadata": {},
   "outputs": [
    {
     "name": "stdout",
     "output_type": "stream",
     "text": [
      "[[ 1.  0.]\n",
      " [ 1.  0.]\n",
      " [ 1.  0.]\n",
      " ..., \n",
      " [ 0.  1.]\n",
      " [ 0.  1.]\n",
      " [ 0.  1.]]\n"
     ]
    }
   ],
   "source": [
    "print(y)"
   ]
  },
  {
   "cell_type": "markdown",
   "metadata": {},
   "source": [
    "** ¿Cómo se llama lo que acabamos de hacer con el vector y? **"
   ]
  },
  {
   "cell_type": "markdown",
   "metadata": {},
   "source": [
    "** Respuesta: ** One hot encoding"
   ]
  },
  {
   "cell_type": "code",
   "execution_count": 12,
   "metadata": {},
   "outputs": [
    {
     "name": "stdout",
     "output_type": "stream",
     "text": [
      "float32 0.0 1.0 (13165, 32, 32, 1)\n",
      "float32 0.0 1.0 (13165, 2)\n"
     ]
    }
   ],
   "source": [
    "# Aleatorizar el orden\n",
    "indices = np.arange(len(X))\n",
    "np.random.shuffle(indices)\n",
    "X = X[indices]\n",
    "y = y[indices]\n",
    "\n",
    "print(X.dtype, X.min(), X.max(), X.shape)\n",
    "print(y.dtype, y.min(), y.max(), y.shape)"
   ]
  },
  {
   "cell_type": "code",
   "execution_count": 13,
   "metadata": {},
   "outputs": [
    {
     "data": {
      "text/plain": [
       "3690.0"
      ]
     },
     "execution_count": 13,
     "metadata": {},
     "output_type": "execute_result"
    }
   ],
   "source": [
    "### SOLUCIÓN\n",
    "# Cantidad de caras sonriendo\n",
    "y[y[:,1] == 1].sum()"
   ]
  },
  {
   "cell_type": "code",
   "execution_count": 14,
   "metadata": {},
   "outputs": [
    {
     "data": {
      "text/plain": [
       "9475.0"
      ]
     },
     "execution_count": 14,
     "metadata": {},
     "output_type": "execute_result"
    }
   ],
   "source": [
    "### SOLUCIÓN\n",
    "# Cantidad de caras sin sonreir\n",
    "y[y[:,0] == 1].sum()"
   ]
  },
  {
   "cell_type": "markdown",
   "metadata": {},
   "source": [
    "** ¿Cómo influirá tener más fotos de un tipo que del otro? **"
   ]
  },
  {
   "cell_type": "markdown",
   "metadata": {},
   "source": [
    "** Respuesta: ** Probemos y veamos, el desbalance no es muy grande"
   ]
  },
  {
   "cell_type": "markdown",
   "metadata": {},
   "source": [
    "## 4 - Red neuronal"
   ]
  },
  {
   "cell_type": "markdown",
   "metadata": {},
   "source": [
    "** ¿Qué tipo de red neuronal nos conviene usar y por qué? **"
   ]
  },
  {
   "cell_type": "markdown",
   "metadata": {},
   "source": [
    "** Respuesta: ** Convolutional neural networks porque estamos trabajando con imágenes. Las redes CNN manejan información espacial que aplica para el procesamiento de imágenes."
   ]
  },
  {
   "cell_type": "markdown",
   "metadata": {},
   "source": [
    "** ¿Qué parámetros específicos para este tipo de red hay que definir? **"
   ]
  },
  {
   "cell_type": "markdown",
   "metadata": {},
   "source": [
    "** Respuesta: ** \n",
    "Cantidad de filtros por capa convolucional y Pool size para pooling layers. También hay que definir qué tipo de pooling hacemos (se sugiere comenzar probando con MaxPooling).\n",
    "Luego hay que definir como en toda red la cantidad y orden de capas, funciones de activación, cantidad de nodos de capas densas, etc."
   ]
  },
  {
   "cell_type": "markdown",
   "metadata": {},
   "source": [
    "** ¿Cuántas nodos tendrá como output y por qué? **"
   ]
  },
  {
   "cell_type": "markdown",
   "metadata": {},
   "source": [
    "** Respuesta: ** 2 nodos porque estamos clasificando imágenes con y sin sonrisa. Podría ser 1 también (interpretado como la probabilidad de que sonría)."
   ]
  },
  {
   "cell_type": "markdown",
   "metadata": {},
   "source": [
    "** ¿Qué función de activación me conviene utilizar a la salida y por qué? **"
   ]
  },
  {
   "cell_type": "markdown",
   "metadata": {},
   "source": [
    "** Respuesta: ** \n",
    "Conviene probar una activación de tipo softmax porque estamos resolviendo un problema de clasificación multiclase."
   ]
  },
  {
   "cell_type": "markdown",
   "metadata": {},
   "source": [
    "Crear una red neuronal que tenga las siguientes capas:\n",
    "1. Capa convolucional con activación Relu\n",
    "2. Capa convolucional con activación Relu\n",
    "3. Capa de MaxPooling \n",
    "4. Capa de Flatten\n",
    "5. Capa densa de 128 nodos con activación Relu\n",
    "6. Capa densa para la salida con activación softmax\n",
    "\n",
    "Compilar con función de pérdida categorical_crossentropy y optimizador adam."
   ]
  },
  {
   "cell_type": "code",
   "execution_count": 15,
   "metadata": {},
   "outputs": [
    {
     "name": "stdout",
     "output_type": "stream",
     "text": [
      "_________________________________________________________________\n",
      "Layer (type)                 Output Shape              Param #   \n",
      "=================================================================\n",
      "conv2d_1 (Conv2D)            (None, 30, 30, 32)        320       \n",
      "_________________________________________________________________\n",
      "conv2d_2 (Conv2D)            (None, 28, 28, 32)        9248      \n",
      "_________________________________________________________________\n",
      "max_pooling2d_1 (MaxPooling2 (None, 14, 14, 32)        0         \n",
      "_________________________________________________________________\n",
      "flatten_1 (Flatten)          (None, 6272)              0         \n",
      "_________________________________________________________________\n",
      "dense_1 (Dense)              (None, 128)               802944    \n",
      "_________________________________________________________________\n",
      "dense_2 (Dense)              (None, 2)                 258       \n",
      "=================================================================\n",
      "Total params: 812,770\n",
      "Trainable params: 812,770\n",
      "Non-trainable params: 0\n",
      "_________________________________________________________________\n"
     ]
    }
   ],
   "source": [
    "### SOLUCIÓN\n",
    "from keras.models import Sequential\n",
    "from keras.layers.core import Dense, Dropout, Flatten, Reshape\n",
    "from keras.layers.convolutional import Conv2D, MaxPooling2D\n",
    "\n",
    "#Cantidad de filtros por capa convolucional\n",
    "nb_filters = 32\n",
    "#Pool size\n",
    "nb_pool = 2\n",
    "#Stride\n",
    "nb_conv = 3\n",
    "\n",
    "model = Sequential()\n",
    "\n",
    "model.add(Conv2D(nb_filters, (nb_conv, nb_conv), activation='relu', input_shape=X.shape[1:]))\n",
    "model.add(Conv2D(nb_filters, (nb_conv, nb_conv), activation='relu'))\n",
    "model.add(MaxPooling2D(pool_size=(nb_pool, nb_pool)))\n",
    "model.add(Flatten())\n",
    "model.add(Dense(128, activation='relu'))\n",
    "model.add(Dense(nb_classes, activation='softmax'))\n",
    "\n",
    "model.compile(loss='categorical_crossentropy', optimizer='adam', metrics=['accuracy'])\n",
    "model.summary()"
   ]
  },
  {
   "cell_type": "markdown",
   "metadata": {},
   "source": [
    "## 5 - Entrenamiento"
   ]
  },
  {
   "cell_type": "markdown",
   "metadata": {},
   "source": [
    "Entrenemos la red con un validation split de 10%, batch size de 128 y durante 5 epochs."
   ]
  },
  {
   "cell_type": "code",
   "execution_count": 16,
   "metadata": {},
   "outputs": [
    {
     "name": "stdout",
     "output_type": "stream",
     "text": [
      "Train on 11848 samples, validate on 1317 samples\n",
      "Epoch 1/5\n",
      "11848/11848 [==============================] - 34s - loss: 0.4042 - acc: 0.8093 - val_loss: 0.3779 - val_acc: 0.8421\n",
      "Epoch 2/5\n",
      "11848/11848 [==============================] - 33s - loss: 0.2758 - acc: 0.8881 - val_loss: 0.2640 - val_acc: 0.8914\n",
      "Epoch 3/5\n",
      "11848/11848 [==============================] - 37s - loss: 0.2401 - acc: 0.9018 - val_loss: 0.2557 - val_acc: 0.9021\n",
      "Epoch 4/5\n",
      "11848/11848 [==============================] - 35s - loss: 0.2241 - acc: 0.9115 - val_loss: 0.2438 - val_acc: 0.9066\n",
      "Epoch 5/5\n",
      "11848/11848 [==============================] - 35s - loss: 0.2095 - acc: 0.9206 - val_loss: 0.2397 - val_acc: 0.9104\n"
     ]
    },
    {
     "data": {
      "text/plain": [
       "<keras.callbacks.History at 0x13343e048>"
      ]
     },
     "execution_count": 16,
     "metadata": {},
     "output_type": "execute_result"
    }
   ],
   "source": [
    "### SOLUCIÓN\n",
    "validation_split = 0.10\n",
    "model.fit(X, y, batch_size=128, epochs=5, verbose=1, validation_split=validation_split)"
   ]
  },
  {
   "cell_type": "markdown",
   "metadata": {},
   "source": [
    "## 6 - Resultados\n",
    "Analicemos la precisión que obtuvimos con nuestro entrenamiento."
   ]
  },
  {
   "cell_type": "code",
   "execution_count": 17,
   "metadata": {},
   "outputs": [
    {
     "data": {
      "image/png": "[encoded data removed]",
      "text/plain": [
       "<matplotlib.figure.Figure at 0x115e655c0>"
      ]
     },
     "metadata": {},
     "output_type": "display_data"
    }
   ],
   "source": [
    "%matplotlib inline\n",
    "from matplotlib import pyplot as plt\n",
    "plt.plot(model.model.history.history['loss'])\n",
    "plt.plot(model.model.history.history['acc'])\n",
    "plt.plot(model.model.history.history['val_loss'])\n",
    "plt.plot(model.model.history.history['val_acc'])\n",
    "plt.show()"
   ]
  },
  {
   "cell_type": "code",
   "execution_count": 18,
   "metadata": {},
   "outputs": [
    {
     "name": "stdout",
     "output_type": "stream",
     "text": [
      "0.953966549026\n"
     ]
    }
   ],
   "source": [
    "from sklearn.metrics import roc_auc_score\n",
    "n_validation = int(len(X) * validation_split)\n",
    "y_predicted = model.predict(X[-n_validation:])\n",
    "print(roc_auc_score(y[-n_validation:], y_predicted))"
   ]
  },
  {
   "cell_type": "markdown",
   "metadata": {},
   "source": [
    "## 7 - Dropout"
   ]
  },
  {
   "cell_type": "markdown",
   "metadata": {},
   "source": [
    "Analicemos el efecto del dropout en una red neuronal. \n",
    "Ahora creemos la siguiente red:\n",
    "1. Capa convolucional con activación Relu\n",
    "2. Capa convolucional con activación Relu\n",
    "3. Capa de MaxPooling \n",
    "4. Capa de Dropout\n",
    "5. Capa de Flatten\n",
    "6. Capa densa de 128 nodos con activación Relu\n",
    "7. Capa de Dropout\n",
    "8. Capa densa para la salida con activación softmax\n",
    "\n",
    "Compilar con función de pérdida categorical_crossentropy y optimizador adam."
   ]
  },
  {
   "cell_type": "markdown",
   "metadata": {},
   "source": [
    "** ¿Qué factor de dropout debo usar? **"
   ]
  },
  {
   "cell_type": "markdown",
   "metadata": {},
   "source": [
    "** Respuesta: ** \n",
    "No hay una única respuesta válida, parámetro que se debe optimizar. Se recomienda comenzar a probar con 0.5"
   ]
  },
  {
   "cell_type": "code",
   "execution_count": 19,
   "metadata": {},
   "outputs": [
    {
     "name": "stdout",
     "output_type": "stream",
     "text": [
      "_________________________________________________________________\n",
      "Layer (type)                 Output Shape              Param #   \n",
      "=================================================================\n",
      "conv2d_3 (Conv2D)            (None, 30, 30, 32)        320       \n",
      "_________________________________________________________________\n",
      "conv2d_4 (Conv2D)            (None, 28, 28, 32)        9248      \n",
      "_________________________________________________________________\n",
      "max_pooling2d_2 (MaxPooling2 (None, 14, 14, 32)        0         \n",
      "_________________________________________________________________\n",
      "dropout_1 (Dropout)          (None, 14, 14, 32)        0         \n",
      "_________________________________________________________________\n",
      "flatten_2 (Flatten)          (None, 6272)              0         \n",
      "_________________________________________________________________\n",
      "dense_3 (Dense)              (None, 128)               802944    \n",
      "_________________________________________________________________\n",
      "dropout_2 (Dropout)          (None, 128)               0         \n",
      "_________________________________________________________________\n",
      "dense_4 (Dense)              (None, 2)                 258       \n",
      "=================================================================\n",
      "Total params: 812,770\n",
      "Trainable params: 812,770\n",
      "Non-trainable params: 0\n",
      "_________________________________________________________________\n"
     ]
    }
   ],
   "source": [
    "### SOLUCIÓN\n",
    "model = Sequential()\n",
    "\n",
    "model.add(Conv2D(nb_filters, (nb_conv, nb_conv), activation='relu', input_shape=X.shape[1:]))\n",
    "model.add(Conv2D(nb_filters, (nb_conv, nb_conv), activation='relu'))\n",
    "model.add(MaxPooling2D(pool_size=(nb_pool, nb_pool)))\n",
    "model.add(Dropout(0.25))\n",
    "model.add(Flatten())\n",
    "model.add(Dense(128, activation='relu'))\n",
    "model.add(Dropout(0.5))\n",
    "model.add(Dense(nb_classes, activation='softmax'))\n",
    "\n",
    "model.compile(loss='categorical_crossentropy', optimizer='adam', metrics=['accuracy'])\n",
    "model.summary()"
   ]
  },
  {
   "cell_type": "markdown",
   "metadata": {},
   "source": [
    "Ahora entrenar la nueva red con las mismas condiciones que antes."
   ]
  },
  {
   "cell_type": "code",
   "execution_count": 20,
   "metadata": {},
   "outputs": [
    {
     "name": "stdout",
     "output_type": "stream",
     "text": [
      "Train on 11848 samples, validate on 1317 samples\n",
      "Epoch 1/5\n",
      "11848/11848 [==============================] - 37s - loss: 0.5107 - acc: 0.7432 - val_loss: 0.3849 - val_acc: 0.8573\n",
      "Epoch 2/5\n",
      "11848/11848 [==============================] - 33s - loss: 0.3609 - acc: 0.8433 - val_loss: 0.3354 - val_acc: 0.8686\n",
      "Epoch 3/5\n",
      "11848/11848 [==============================] - 36s - loss: 0.3264 - acc: 0.8695 - val_loss: 0.3156 - val_acc: 0.8717\n",
      "Epoch 4/5\n",
      "11848/11848 [==============================] - 38s - loss: 0.2989 - acc: 0.8814 - val_loss: 0.3043 - val_acc: 0.8869\n",
      "Epoch 5/5\n",
      "11848/11848 [==============================] - 34s - loss: 0.2745 - acc: 0.8940 - val_loss: 0.2802 - val_acc: 0.8967\n"
     ]
    },
    {
     "data": {
      "text/plain": [
       "<keras.callbacks.History at 0x1170a6940>"
      ]
     },
     "execution_count": 20,
     "metadata": {},
     "output_type": "execute_result"
    }
   ],
   "source": [
    "### SOLUCIÓN\n",
    "model.fit(X, y, batch_size=128, epochs=5, verbose=1, validation_split=validation_split)"
   ]
  },
  {
   "cell_type": "markdown",
   "metadata": {},
   "source": [
    "Analicemos los resultados nuevamente."
   ]
  },
  {
   "cell_type": "code",
   "execution_count": 21,
   "metadata": {},
   "outputs": [
    {
     "data": {
      "image/png": "[encoded data removed]",
      "text/plain": [
       "<matplotlib.figure.Figure at 0x133485be0>"
      ]
     },
     "metadata": {},
     "output_type": "display_data"
    }
   ],
   "source": [
    "%matplotlib inline\n",
    "plt.plot(model.model.history.history['loss'])\n",
    "plt.plot(model.model.history.history['acc'])\n",
    "plt.plot(model.model.history.history['val_loss'])\n",
    "plt.plot(model.model.history.history['val_acc'])\n",
    "plt.show()"
   ]
  },
  {
   "cell_type": "code",
   "execution_count": 22,
   "metadata": {},
   "outputs": [
    {
     "name": "stdout",
     "output_type": "stream",
     "text": [
      "0.944871455076\n"
     ]
    }
   ],
   "source": [
    "n_validation = int(len(X) * validation_split)\n",
    "y_predicted = model.predict(X[-n_validation:])\n",
    "print(roc_auc_score(y[-n_validation:], y_predicted))"
   ]
  },
  {
   "cell_type": "markdown",
   "metadata": {},
   "source": [
    "## 8 - Balanceo de datos de entrenamiento\n",
    "Habíamos observado antes que nuestros datos de entrenamiento están sesgados. Tratemos de compensar eso en nuestro entrenamiento. Utilizaremos el parámetro class_weight del método fit para ello.\n",
    "\n",
    "La documentación oficial de Keras dice lo siguiente:\n",
    "**class_weight** - Optional dictionary mapping class indices (integers) to a weight (float) value, used for weighting the loss function (during training only). This can be useful to tell the model to \"pay more attention\" to samples from an under-represented class.\n"
   ]
  },
  {
   "cell_type": "code",
   "execution_count": 23,
   "metadata": {
    "collapsed": true
   },
   "outputs": [],
   "source": [
    "# Preparo el argumento\n",
    "class_totals = y.sum(axis=0)\n",
    "class_weight = class_totals.max() / class_totals"
   ]
  },
  {
   "cell_type": "markdown",
   "metadata": {},
   "source": [
    "Ahora entrenar la nueva red con las mismas condiciones que antes."
   ]
  },
  {
   "cell_type": "code",
   "execution_count": 24,
   "metadata": {},
   "outputs": [
    {
     "name": "stdout",
     "output_type": "stream",
     "text": [
      "Train on 11848 samples, validate on 1317 samples\n",
      "Epoch 1/5\n",
      "11848/11848 [==============================] - 34s - loss: 0.2562 - acc: 0.8995 - val_loss: 0.2574 - val_acc: 0.9036\n",
      "Epoch 2/5\n",
      "11848/11848 [==============================] - 40s - loss: 0.2481 - acc: 0.9020 - val_loss: 0.2522 - val_acc: 0.9066\n",
      "Epoch 3/5\n",
      "11848/11848 [==============================] - 37s - loss: 0.2383 - acc: 0.9058 - val_loss: 0.2522 - val_acc: 0.9066\n",
      "Epoch 4/5\n",
      "11848/11848 [==============================] - 35s - loss: 0.2284 - acc: 0.9122 - val_loss: 0.2457 - val_acc: 0.9036\n",
      "Epoch 5/5\n",
      "11848/11848 [==============================] - 32s - loss: 0.2144 - acc: 0.9160 - val_loss: 0.2380 - val_acc: 0.9081\n"
     ]
    },
    {
     "data": {
      "text/plain": [
       "<keras.callbacks.History at 0x11681feb8>"
      ]
     },
     "execution_count": 24,
     "metadata": {},
     "output_type": "execute_result"
    }
   ],
   "source": [
    "### SOLUCIÓN\n",
    "model.fit(X, y, batch_size=128, class_weight=class_weight, epochs=5, verbose=1, validation_split=validation_split)"
   ]
  },
  {
   "cell_type": "markdown",
   "metadata": {},
   "source": [
    "Analicemos los resultados nuevamente."
   ]
  },
  {
   "cell_type": "code",
   "execution_count": 25,
   "metadata": {},
   "outputs": [
    {
     "data": {
      "image/png": "[encoded data removed]",
      "text/plain": [
       "<matplotlib.figure.Figure at 0x1171255f8>"
      ]
     },
     "metadata": {},
     "output_type": "display_data"
    }
   ],
   "source": [
    "%matplotlib inline\n",
    "plt.plot(model.model.history.history['loss'])\n",
    "plt.plot(model.model.history.history['acc'])\n",
    "plt.plot(model.model.history.history['val_loss'])\n",
    "plt.plot(model.model.history.history['val_acc'])\n",
    "plt.show()"
   ]
  },
  {
   "cell_type": "code",
   "execution_count": 26,
   "metadata": {},
   "outputs": [
    {
     "name": "stdout",
     "output_type": "stream",
     "text": [
      "0.955878332194\n"
     ]
    }
   ],
   "source": [
    "n_validation = int(len(X) * validation_split)\n",
    "y_predicted = model.predict(X[-n_validation:])\n",
    "print(roc_auc_score(y[-n_validation:], y_predicted))"
   ]
  },
  {
   "cell_type": "markdown",
   "metadata": {},
   "source": [
    "## 9 - Predicción\n",
    "Una vez que estoy satisfecho con mi modelo puedo comenzar a usarlo para predecir."
   ]
  },
  {
   "cell_type": "code",
   "execution_count": 27,
   "metadata": {
    "collapsed": true
   },
   "outputs": [],
   "source": [
    "def print_indicator(data, model, class_names, bar_width=50):\n",
    "    probabilities = model.predict(np.array([data]))[0]\n",
    "    print(probabilities)\n",
    "    print(class_names[0], class_names[1])"
   ]
  },
  {
   "cell_type": "code",
   "execution_count": 28,
   "metadata": {},
   "outputs": [
    {
     "data": {
      "image/png": "[encoded data removed]",
      "text/plain": [
       "<IPython.core.display.Image object>"
      ]
     },
     "metadata": {},
     "output_type": "display_data"
    },
    {
     "name": "stdout",
     "output_type": "stream",
     "text": [
      "[ 0.9919315   0.00806852]\n",
      "NoSonrisa Sonrisa\n"
     ]
    }
   ],
   "source": [
    "class_names = ['NoSonrisa', 'Sonrisa']\n",
    "img = X[-7]\n",
    "show_array(255 * img)\n",
    "print_indicator(img, model, class_names)"
   ]
  },
  {
   "cell_type": "code",
   "execution_count": null,
   "metadata": {
    "collapsed": true
   },
   "outputs": [],
   "source": [
    "class_names = ['NoSonrisa', 'Sonrisa']\n",
    "img = X[-25]\n",
    "show_array(255 * img)\n",
    "print_indicator(img, model, class_names)"
   ]
  },
  {
   "cell_type": "code",
   "execution_count": null,
   "metadata": {
    "collapsed": true
   },
   "outputs": [],
   "source": [
    "class_names = ['NoSonrisa', 'Sonrisa']\n",
    "img = X[-254]\n",
    "show_array(255 * img)\n",
    "print_indicator(img, model, class_names)"
   ]
  },
  {
   "cell_type": "markdown",
   "metadata": {
    "collapsed": true
   },
   "source": [
    "## 10 - Extra\n",
    "Jugar ahora con otros parámetros, volver a entrenar la red y ver si es posible aumentar la precisión."
   ]
  },
  {
   "cell_type": "code",
   "execution_count": null,
   "metadata": {
    "collapsed": true
   },
   "outputs": [],
   "source": [
    "#Cantidad de filtros por capa convolucional\n",
    "nb_filters = 32\n",
    "#Pool size\n",
    "nb_pool = 2\n",
    "#Stride\n",
    "nb_conv = 3\n",
    "\n",
    "...."
   ]
  }
 ],
 "metadata": {
  "anaconda-cloud": {},
  "kernelspec": {
   "display_name": "Python 3",
   "language": "python",
   "name": "python3"
  },
  "language_info": {
   "codemirror_mode": {
    "name": "ipython",
    "version": 3
   },
   "file_extension": ".py",
   "mimetype": "text/x-python",
   "name": "python",
   "nbconvert_exporter": "python",
   "pygments_lexer": "ipython3",
   "version": "3.6.3"
  }
 },
 "nbformat": 4,
 "nbformat_minor": 1
}
